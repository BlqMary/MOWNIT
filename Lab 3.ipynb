{
 "cells": [
  {
   "cell_type": "code",
   "execution_count": 2,
   "metadata": {},
   "outputs": [],
   "source": [
    "import math \n",
    "import numpy as np\n",
    "import decimal as dec"
   ]
  },
  {
   "cell_type": "markdown",
   "metadata": {},
   "source": [
    "### Funkcje do testów"
   ]
  },
  {
   "cell_type": "code",
   "execution_count": 3,
   "metadata": {},
   "outputs": [],
   "source": [
    "def f1(x):\n",
    "    return dec.Decimal(math.cos(x)*math.cosh(x) - 1)"
   ]
  },
  {
   "cell_type": "code",
   "execution_count": 4,
   "metadata": {},
   "outputs": [],
   "source": [
    "def f2(x):\n",
    "    return dec.Decimal(1/x - dec.Decimal(math.tan(x)))"
   ]
  },
  {
   "cell_type": "code",
   "execution_count": 5,
   "metadata": {},
   "outputs": [],
   "source": [
    "def f3(x):\n",
    "    return dec.Decimal(2**(-x) + dec.Decimal(math.exp(x)) + 2*dec.Decimal(math.cos(x)) - 6)"
   ]
  },
  {
   "cell_type": "code",
   "execution_count": 6,
   "metadata": {},
   "outputs": [],
   "source": [
    "def df1(x):\n",
    "    return dec.Decimal(math.cos(x)*math.sinh(x) - math.sin(x)*math.cosh(x))"
   ]
  },
  {
   "cell_type": "code",
   "execution_count": 7,
   "metadata": {},
   "outputs": [],
   "source": [
    "def df2(x):\n",
    "    return dec.Decimal(-1/x**2 - 1/dec.Decimal(math.cos(x)**2))"
   ]
  },
  {
   "cell_type": "code",
   "execution_count": 8,
   "metadata": {},
   "outputs": [],
   "source": [
    "def df3(x):\n",
    "    return dec.Decimal(dec.Decimal(math.exp(x)) - 2**(-x)*dec.Decimal(math.log(2)) - 2*dec.Decimal(math.sin(x)))"
   ]
  },
  {
   "cell_type": "markdown",
   "metadata": {},
   "source": [
    "### Zadanie 1 Metoda bisekcji\n",
    "\n",
    "Funkcja realizująca metodę bisekcji dla danej funkcji f w oparciu o arytmetykę o zmiennej precyzji."
   ]
  },
  {
   "cell_type": "code",
   "execution_count": 9,
   "metadata": {},
   "outputs": [],
   "source": [
    "def bisectionMethod(precision,a,b,eps,f):\n",
    "    dec.getcontext().prec = precision \n",
    "    a = dec.Decimal(a)\n",
    "    b = dec.Decimal(b)\n",
    "    fa = f(a)\n",
    "    fb = f(b)\n",
    "    if(a > b or  np.sign(fa) == np.sign(fb)): #a musi być mniejsze od 0 oraz f(a) i f(b) muszą być różnego znaku\n",
    "        return None \n",
    "    iter = 0\n",
    "    while True:\n",
    "        iter += 1;\n",
    "        c = (a+b)/2\n",
    "        fc= f(c)\n",
    "        if(np.sign(fc) == np.sign(fb)):\n",
    "            b = c\n",
    "            fb = fc\n",
    "        else:\n",
    "            a = c\n",
    "            fa = fc\n",
    "        if(fc == 0 or math.fabs((a-b)/2) < eps):\n",
    "            return (c,iter)\n",
    "    "
   ]
  },
  {
   "cell_type": "markdown",
   "metadata": {},
   "source": [
    "Wyniki dla eps = 10**-7"
   ]
  },
  {
   "cell_type": "code",
   "execution_count": 10,
   "metadata": {},
   "outputs": [
    {
     "name": "stdout",
     "output_type": "stream",
     "text": [
      "(Decimal('4.7300407'), 24)\n",
      "(Decimal('0.8603337'), 23)\n",
      "(Decimal('1.8293836'), 23)\n"
     ]
    }
   ],
   "source": [
    "print(bisectionMethod(8,3/2*math.pi,2*math.pi,10**-7,f1))\n",
    "print(bisectionMethod(8,0.1,math.pi/2,10**-7,f2))\n",
    "print(bisectionMethod(8,1,3,10**-7,f3))"
   ]
  },
  {
   "cell_type": "markdown",
   "metadata": {},
   "source": [
    "Wyniki dla eps = 10**-15"
   ]
  },
  {
   "cell_type": "code",
   "execution_count": 11,
   "metadata": {},
   "outputs": [
    {
     "name": "stdout",
     "output_type": "stream",
     "text": [
      "(Decimal('4.730040744862704'), 50)\n",
      "(Decimal('0.8603335890193795'), 50)\n",
      "(Decimal('1.829383601933848'), 50)\n"
     ]
    }
   ],
   "source": [
    "print(bisectionMethod(16,3/2*math.pi,2*math.pi,10**-15,f1))\n",
    "print(bisectionMethod(16,0.01,math.pi/2,10**-15,f2))\n",
    "print(bisectionMethod(16,1,3,10**-15,f3))"
   ]
  },
  {
   "cell_type": "markdown",
   "metadata": {},
   "source": [
    "Wyniki dla eps = 10**-33"
   ]
  },
  {
   "cell_type": "code",
   "execution_count": 12,
   "metadata": {},
   "outputs": [
    {
     "name": "stdout",
     "output_type": "stream",
     "text": [
      "(Decimal('4.730040744862704205075942809344269'), 110)\n",
      "(Decimal('0.860333589019379780422464011246533'), 110)\n",
      "(Decimal('1.829383601933848857434838919289177'), 111)\n"
     ]
    }
   ],
   "source": [
    "print(bisectionMethod(34,3/2*math.pi,2*math.pi,10**-33,f1)) \n",
    "print(bisectionMethod(34,0.01,math.pi/2,10**-33,f2))\n",
    "print(bisectionMethod(34,1,3,10**-33,f3))"
   ]
  },
  {
   "cell_type": "markdown",
   "metadata": {},
   "source": [
    " "
   ]
  },
  {
   "cell_type": "markdown",
   "metadata": {},
   "source": [
    "### Zadanie 2 Metoda Newtona\n",
    "Funkcję realizująca metodę Newtona w oparciu o arytmetykę o zmiennej precyzji"
   ]
  },
  {
   "cell_type": "code",
   "execution_count": 13,
   "metadata": {},
   "outputs": [],
   "source": [
    "def newstonsMethod(x,precision,maxIter,eps,f,df):\n",
    "    dec.getcontext().prec = precision \n",
    "    x = dec.Decimal(x)\n",
    "    iter = 0\n",
    "    while True:\n",
    "        iter += 1\n",
    "        fx = f(x)\n",
    "        dfx = df(x)\n",
    "        if(math.fabs(dfx) < eps**2): #zatrzymujemy jeżeli denominator jest za mały\n",
    "            return None\n",
    "        x0 = x - fx/dfx \n",
    "        if(math.fabs(x-x0) < eps or iter >= maxIter):\n",
    "            return (x0,iter)\n",
    "        x = x0"
   ]
  },
  {
   "cell_type": "code",
   "execution_count": 14,
   "metadata": {},
   "outputs": [
    {
     "name": "stdout",
     "output_type": "stream",
     "text": [
      "(Decimal('4.730040744862704'), 8)\n",
      "(Decimal('0.8603335890193797'), 18)\n",
      "(Decimal('1.829383601933849'), 9)\n"
     ]
    }
   ],
   "source": [
    "print(newstonsMethod(2*math.pi,16,5000,10**-15,f1,df1))\n",
    "print(newstonsMethod(0.0001,16,5000,10**-15,f2,df2))\n",
    "print(newstonsMethod(1,16,5000,10**-15,f3,df3))"
   ]
  },
  {
   "cell_type": "markdown",
   "metadata": {},
   "source": [
    "### Zadanie 3 Metoda siecznych\n",
    "Funkcja realizująca metodę siecznych w oparciu o arytmetykę o zmiennej precyzji."
   ]
  },
  {
   "cell_type": "code",
   "execution_count": 15,
   "metadata": {},
   "outputs": [],
   "source": [
    "def secantMethod(x0,x1,precision,maxIter,eps,f): \n",
    "    dec.getcontext().prec = precision \n",
    "    x0 = dec.Decimal(x0)\n",
    "    x1 = dec.Decimal(x1)\n",
    "    iter = 0\n",
    "    while True:\n",
    "        iter += 1\n",
    "        x2 = x1 - f(x1)*(x1-x0)/(f(x1)-f(x0))\n",
    "        if(math.fabs(x2-x1) < eps or iter >= maxIter):\n",
    "            return (x2,iter)\n",
    "        else:\n",
    "            x0=x1\n",
    "            x1=x2"
   ]
  },
  {
   "cell_type": "code",
   "execution_count": 16,
   "metadata": {},
   "outputs": [
    {
     "name": "stdout",
     "output_type": "stream",
     "text": [
      "(Decimal('4.730040744862704'), 7)\n",
      "(Decimal('0.8603335890193797'), 17)\n",
      "(Decimal('1.829383601933849'), 11)\n"
     ]
    }
   ],
   "source": [
    "print(secantMethod(3/2*math.pi,2*math.pi,16,5000,10**-15,f1)) \n",
    "print(secantMethod(0.01,math.pi/2,16,5000,10**-15,f2))\n",
    "print(secantMethod(1,3,16,5000,10**-15,f3))"
   ]
  }
 ],
 "metadata": {
  "kernelspec": {
   "display_name": "Python 3",
   "language": "python",
   "name": "python3"
  },
  "language_info": {
   "codemirror_mode": {
    "name": "ipython",
    "version": 3
   },
   "file_extension": ".py",
   "mimetype": "text/x-python",
   "name": "python",
   "nbconvert_exporter": "python",
   "pygments_lexer": "ipython3",
   "version": "3.7.4"
  }
 },
 "nbformat": 4,
 "nbformat_minor": 2
}
