{
 "cells": [
  {
   "cell_type": "code",
   "execution_count": 12,
   "metadata": {},
   "outputs": [],
   "source": [
    "import os\n",
    "import numpy as np\n",
    "import string\n",
    "import scipy\n",
    "import nltk\n",
    "from nltk.corpus import stopwords\n",
    "from nltk.tokenize import word_tokenize\n",
    "from sklearn import preprocessing\n",
    "import PySimpleGUI as sg"
   ]
  },
  {
   "cell_type": "markdown",
   "metadata": {},
   "source": [
    "### 1. Przygotuj duży (> 1000 elementów) zbiór dokumentów tekstowych w języku angielskim "
   ]
  },
  {
   "cell_type": "markdown",
   "metadata": {},
   "source": [
    "### 2. Określ słownik słów kluczowych potrzebny do wyznaczenia wektorów cech bag-of-words "
   ]
  },
  {
   "cell_type": "code",
   "execution_count": 13,
   "metadata": {},
   "outputs": [],
   "source": [
    "def preprocessWords(language,words):\n",
    "    sno = nltk.stem.SnowballStemmer(language)\n",
    "    cachedStopWords = stopwords.words(language)\n",
    "    result = []\n",
    "    words = words.split() #spliting line\n",
    "\n",
    "    for w in words:\n",
    "        punctuation = str.maketrans(dict.fromkeys(string.punctuation)) \n",
    "        w = w.translate(punctuation) #getting rid of punctuation\n",
    "        w = w.lower() #making all letters lower\n",
    "        w = sno.stem(w) #stemming\n",
    "        if w not in cachedStopWords:\n",
    "            result.append(w)\n",
    "    return result"
   ]
  },
  {
   "cell_type": "code",
   "execution_count": 14,
   "metadata": {},
   "outputs": [],
   "source": [
    "def prepareAllWords(language,directory):\n",
    "    allWords = {}\n",
    "    files = os.listdir(directory)\n",
    "    files.sort()\n",
    "    for i in range(len(files)):\n",
    "        fileName = directory + files[i]\n",
    "        f = open(fileName,\"r\", encoding=\"utf-8\")\n",
    "        for line in f:\n",
    "            words = preprocessWords(language,line)\n",
    "            for w in words:\n",
    "                if w not in allWords:\n",
    "                    allWords[w] = len(allWords) \n",
    "                    \n",
    "        if (i % 200 == 0):\n",
    "            print(\"{:.2f}\".format(i/len(files)*100), end=\"\\r\")\n",
    "\n",
    "    print(\"Done\")\n",
    "    return allWords"
   ]
  },
  {
   "cell_type": "markdown",
   "metadata": {},
   "source": [
    "### 4.Zbuduj rzadką macierz wektorów cech term-by-document matrix w której wektory cech ułożone są kolumnowo Am×n = [d1|d2| . . . |dn] (m jest liczbą termów w słowniku, a n liczbą dokumentów)"
   ]
  },
  {
   "cell_type": "code",
   "execution_count": 15,
   "metadata": {},
   "outputs": [],
   "source": [
    "def prepareTermByDocumentMatrix(language,directory,allWords):\n",
    "    files = os.listdir(directory)\n",
    "    files.sort()\n",
    "\n",
    "    A = [[0 for _ in range (len(files))] for _ in range (len(allWords))]\n",
    "    wordsCount = 0\n",
    "    \n",
    "    for i in range(len(files)):\n",
    "        fileName = directory + files[i]\n",
    "        f = open(fileName,\"r\", encoding=\"utf-8\")\n",
    "        for line in f:\n",
    "            words = preprocessWords(language,line)\n",
    "            for w in words:\n",
    "                wordsCount += 1\n",
    "                if w in allWords:\n",
    "                    A[allWords[w]][i] += 1\n",
    "                    \n",
    "        for j in range (len(allWords)):\n",
    "            if(A[j][i] != 0):\n",
    "                A[j][i] = A[j][i]/wordsCount\n",
    "        \n",
    "        if (i % 200 == 0):\n",
    "            print(\"{:.2f}\".format(i/len(files)*100), end=\"\\r\")\n",
    "\n",
    "\n",
    "    print(\"Done\")\n",
    "    return np.array(A)"
   ]
  },
  {
   "cell_type": "markdown",
   "metadata": {},
   "source": [
    "### 5. Przetwórz wstępnie otrzymany zbiór danych mnożąc elementy bag-of-words przez inverse document frequency"
   ]
  },
  {
   "cell_type": "markdown",
   "metadata": {},
   "source": [
    "IDF(w) = log N/nw ~ gdzie nw jest liczbą dokumentów, w których występuje słowo w, a N jest całkowitą liczbą dokumentów."
   ]
  },
  {
   "cell_type": "code",
   "execution_count": 16,
   "metadata": {},
   "outputs": [],
   "source": [
    "def IDF(matrix):\n",
    "    N = len(matrix[0])\n",
    "    idf = []\n",
    "    for i in range (len(matrix)):\n",
    "        nw = len(matrix[i][matrix[i]>0])        \n",
    "        idf.append(np.log(N/nw))\n",
    "        \n",
    "    return idf"
   ]
  },
  {
   "cell_type": "code",
   "execution_count": 17,
   "metadata": {},
   "outputs": [],
   "source": [
    "def changeMatrixIDF(matrix,idf):\n",
    "    result = [[0 for _ in range (len(matrix[0]))] for _ in range (len(allWords))]\n",
    "    for i in range (len(result)):\n",
    "        for j in range (len(result[0])):\n",
    "            result[i][j] = matrix[i][j] * idf[i]\n",
    "            \n",
    "        if (i % 200 == 0):\n",
    "            print(\"{:.2f}\".format(i/len(result)*100), end=\"\\r\")\n",
    "\n",
    "    print(\"Done\")\n",
    "    return np.array(result)"
   ]
  },
  {
   "cell_type": "markdown",
   "metadata": {},
   "source": [
    "### 6. Napisz program pozwalający na wprowadzenie zapytania (w postaci sekwencji słów) przekształcanego następnie do reprezentacji wektorowej q (bag-of-words). Program ma zwrócić k dokumentów najbardziej zbliżonych do podanego zapytania q. Użyj korelacji między wektorami jako miary podobieństwa"
   ]
  },
  {
   "cell_type": "code",
   "execution_count": 18,
   "metadata": {},
   "outputs": [],
   "source": [
    "def search(query, numberOfResults, matrix):\n",
    "    files = os.listdir('./wiki/')\n",
    "    files.sort()\n",
    "    \n",
    "    textList = preprocessWords('english',query)\n",
    "    text = \"\"  \n",
    "\n",
    "    queryVector = [0 for _ in range (len(allWords))]\n",
    "\n",
    "    for w in textList:\n",
    "        if w in allWords:\n",
    "            text += w + \" \"\n",
    "            queryVector[allWords[w]] += 1\n",
    "    \n",
    "    queryVector = np.array(queryVector)\n",
    "    queryNorm = np.linalg.norm(queryVector)\n",
    "    \n",
    "    result = []\n",
    "    \n",
    "    for i in range(len(matrix[0])):\n",
    "        product = queryVector.T @ matrix[:,i]\n",
    "        divider = queryNorm * np.linalg.norm(matrix[:,i])\n",
    "        cosTheta = product / divider\n",
    "        result.append((cosTheta, files[i]))\n",
    "    \n",
    "    result.sort(key = lambda tup: tup[0], reverse=True)\n",
    "        \n",
    "    return result[:numberOfResults]"
   ]
  },
  {
   "cell_type": "code",
   "execution_count": 19,
   "metadata": {},
   "outputs": [],
   "source": [
    "def normalizeVec(vector):\n",
    "    return vector/np.linalg.norm(vector)"
   ]
  },
  {
   "cell_type": "code",
   "execution_count": 20,
   "metadata": {},
   "outputs": [],
   "source": [
    "def searchNorm(query, numberOfResults, matrix):\n",
    "    files = os.listdir('./wiki/')\n",
    "    files.sort()\n",
    "    \n",
    "    textList = preprocessWords('english',query)\n",
    "    text = \"\"  \n",
    "\n",
    "    queryVector = [0 for _ in range (len(allWords))]\n",
    "\n",
    "    for w in textList:\n",
    "        if w in allWords:\n",
    "            text += w + \" \"\n",
    "            queryVector[allWords[w]] += 1\n",
    "    \n",
    "    queryVector = np.array(queryVector)\n",
    "    queryVectorNorm = normalizeVec(queryVector)\n",
    "    \n",
    "    result = []\n",
    "    \n",
    "    for i in range(len(matrix[0])):\n",
    "        documentNorm = normalizeVec(matrix[:,i])\n",
    "        product = queryVectorNorm.T @ documentNorm\n",
    "        cosTheta = np.abs(product)\n",
    "        result.append((cosTheta, files[i]))\n",
    "    \n",
    "    result.sort(key = lambda tup: tup[0], reverse=True)\n",
    "        \n",
    "    return result[:numberOfResults]"
   ]
  },
  {
   "cell_type": "markdown",
   "metadata": {},
   "source": [
    "### 8. W celu usunięcia szumu z macierzy A zastosuj SVD i low rank approximation"
   ]
  },
  {
   "cell_type": "code",
   "execution_count": 21,
   "metadata": {},
   "outputs": [],
   "source": [
    "def lowRankAprox(matrix,k):\n",
    "    u, s, v = scipy.sparse.linalg.svds(matrix, k=k)\n",
    "    return u @ np.diag(s) @ v"
   ]
  },
  {
   "cell_type": "markdown",
   "metadata": {},
   "source": [
    "### 9. Porównaj działanie programu bez usuwania szumu i z usuwaniem szumu. Dla jakiej wartości k wyniki wyszukiwania są najlepsze (subiektywnie). Zbadaj wpływ przekształcenia IDF na wyniki wyszukiwania.\n"
   ]
  },
  {
   "cell_type": "code",
   "execution_count": 22,
   "metadata": {},
   "outputs": [
    {
     "name": "stdout",
     "output_type": "stream",
     "text": [
      "Done1\n",
      "Done1\n",
      "Done2\n"
     ]
    }
   ],
   "source": [
    "#preparation\n",
    "allWords = prepareAllWords('english','./wiki/')  \n",
    "A = prepareTermByDocumentMatrix('english','./wiki/',allWords)\n",
    "idf = IDF(A)\n",
    "matrixIDF = changeMatrixIDF(A,idf)"
   ]
  },
  {
   "cell_type": "code",
   "execution_count": 23,
   "metadata": {},
   "outputs": [],
   "source": [
    "svds = []\n",
    "\n",
    "svds.append(lowRankAprox(matrixIDF,10))\n",
    "svds.append(lowRankAprox(matrixIDF,50))\n",
    "svds.append(lowRankAprox(matrixIDF,100))\n",
    "svds.append(lowRankAprox(matrixIDF,200))"
   ]
  },
  {
   "cell_type": "code",
   "execution_count": 24,
   "metadata": {},
   "outputs": [],
   "source": [
    "sg.theme('LightGray1')\n",
    "while True:\n",
    "    resultButtons = []\n",
    "    layout = [[sg.Input(do_not_clear=True)],\n",
    "              [sg.Button('Search'),sg.Exit()]]\n",
    "            \n",
    "    searchWindow = sg.Window('Search').Layout(layout)\n",
    "    event, query = searchWindow.Read()\n",
    "    searchWindow.Close()\n",
    "    if event is 'Exit' or event is None:\n",
    "        break\n",
    "    else:\n",
    "        results = searchNorm(query[0],5, matrixIDF)\n",
    "        resultButtons = []\n",
    "        for doc in results:\n",
    "            resultButtons.append([sg.Button(doc[1])])\n",
    "        resultsWindow = sg.Window('Results for your query').Layout(resultButtons)\n",
    "        openEvent = resultsWindow.Read()\n",
    "        if openEvent[0] is not None:       \n",
    "            f = open('wiki/' + openEvent[0], 'r', encoding=\"utf-8\")\n",
    "            sg.Popup(openEvent[0], f.read())\n"
   ]
  },
  {
   "cell_type": "code",
   "execution_count": 26,
   "metadata": {},
   "outputs": [
    {
     "name": "stdout",
     "output_type": "stream",
     "text": [
      "without IDF\n",
      "Search results for \"australia biggest state\":\n",
      "Sovereign_state.txt | Correlation: 0.47\n",
      "State.txt | Correlation: 0.46\n",
      "South_Australia.txt | Correlation: 0.44\n",
      "Western_Australia.txt | Correlation: 0.43\n",
      "Australia.txt | Correlation: 0.39\n",
      "\n",
      "with IDF\n",
      "Search results for \"australia biggest state\":\n",
      "Western_Australia.txt | Correlation: 0.32\n",
      "Australia.txt | Correlation: 0.31\n",
      "State.txt | Correlation: 0.29\n",
      "Sovereign_state.txt | Correlation: 0.28\n",
      "South_Australia.txt | Correlation: 0.21\n",
      "\n",
      "svds: 10,50,100,200\n",
      "\n",
      "Search results for \"australia biggest state\":\n",
      "Rowing.txt | Correlation: 0.04\n",
      "Malaysia.txt | Correlation: 0.04\n",
      "Sydney.txt | Correlation: 0.04\n",
      "\n",
      "Search results for \"australia biggest state\":\n",
      "Australia.txt | Correlation: 0.30\n",
      "Prime_Minister_of_Australia.txt | Correlation: 0.29\n",
      "Australian_Labor_Party.txt | Correlation: 0.29\n",
      "\n",
      "Search results for \"australia biggest state\":\n",
      "Australia.txt | Correlation: 0.31\n",
      "Western_Australia.txt | Correlation: 0.30\n",
      "Prime_Minister_of_Australia.txt | Correlation: 0.29\n",
      "\n",
      "Search results for \"australia biggest state\":\n",
      "Australia.txt | Correlation: 0.31\n",
      "Western_Australia.txt | Correlation: 0.30\n",
      "Numbat.txt | Correlation: 0.27\n"
     ]
    }
   ],
   "source": [
    "query = \"australia biggest state\"\n",
    "\n",
    "print(\"without IDF\")\n",
    "results = searchNorm(query,5,A)\n",
    "print(\"Search results for \\\"{}\\\":\".format(query))\n",
    "for document in results:\n",
    "    print(document[1],\"| Correlation:\", \"{:.2f}\".format(document[0]))\n",
    "    \n",
    "print(\"\\nwith IDF\")\n",
    "results = searchNorm(query,5,matrixIDF)\n",
    "print(\"Search results for \\\"{}\\\":\".format(query))\n",
    "for document in results:\n",
    "    print(document[1],\"| Correlation:\", \"{:.2f}\".format(document[0]))\n",
    "\n",
    "print(\"\\nsvds: 10,50,100,200\")\n",
    "for matrix in svds:\n",
    "    print()\n",
    "    results = search(query,3, matrix)\n",
    "    print(\"Search results for \\\"{}\\\":\".format(query))\n",
    "    for document in results:\n",
    "        print(document[1],\"| Correlation:\", \"{:.2f}\".format(document[0]))"
   ]
  },
  {
   "cell_type": "code",
   "execution_count": 27,
   "metadata": {},
   "outputs": [
    {
     "name": "stdout",
     "output_type": "stream",
     "text": [
      "1.1317978376537638\n",
      "1.8127497451198908\n",
      "2.684588714423212\n"
     ]
    }
   ],
   "source": [
    "print(idf[allWords['state']])\n",
    "print(idf[allWords['australia']])\n",
    "print(idf[allWords['biggest']])"
   ]
  }
 ],
 "metadata": {
  "kernelspec": {
   "display_name": "Python 3",
   "language": "python",
   "name": "python3"
  },
  "language_info": {
   "codemirror_mode": {
    "name": "ipython",
    "version": 3
   },
   "file_extension": ".py",
   "mimetype": "text/x-python",
   "name": "python",
   "nbconvert_exporter": "python",
   "pygments_lexer": "ipython3",
   "version": "3.7.4"
  }
 },
 "nbformat": 4,
 "nbformat_minor": 2
}
