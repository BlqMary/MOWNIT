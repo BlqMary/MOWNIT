{
 "cells": [
  {
   "cell_type": "code",
   "execution_count": 1,
   "metadata": {},
   "outputs": [],
   "source": [
    "import bs4\n",
    "from bs4 import BeautifulSoup\n",
    "import requests\n",
    "import urllib.request\n",
    "import time\n",
    "import re\n",
    "import random"
   ]
  },
  {
   "cell_type": "code",
   "execution_count": 2,
   "metadata": {},
   "outputs": [],
   "source": [
    "counter = 0\n",
    "maxCount = 1000"
   ]
  },
  {
   "cell_type": "code",
   "execution_count": 3,
   "metadata": {},
   "outputs": [],
   "source": [
    "def saveContent(url,file):\n",
    "    response = requests.get(url)\n",
    "    html = BeautifulSoup(response.text, \"html.parser\")\n",
    "    title = html.select(\"#firstHeading\")[0].text\n",
    "    paragraphs = html.select(\"p\")\n",
    "\n",
    "    text = '\\n'.join([para.text for para in paragraphs])\n",
    "\n",
    "    textFile = open(file, \"w\", encoding=\"utf-8\")\n",
    "    textFile.write(text)\n",
    "    textFile.close()\n",
    "\n",
    "    global counter\n",
    "    counter += 1"
   ]
  },
  {
   "cell_type": "code",
   "execution_count": 4,
   "metadata": {},
   "outputs": [],
   "source": [
    "def website(url,file):\n",
    "    print(url)\n",
    "    response = requests.get(url)\n",
    "    html = BeautifulSoup(response.text, \"html.parser\")\n",
    "    \n",
    "    paras = html.findAll('p') \n",
    "    links = []\n",
    "    nextWebsites = []\n",
    "    for i in range(0,len(paras)):\n",
    "        links = paras[i].findAll('a') \n",
    "        if(len(links) > 0):\n",
    "            for l in links:\n",
    "                if not l.has_attr('href'):\n",
    "                    break\n",
    "                l = l['href']\n",
    "                if(re.match(r\"/wiki/\\w*$\",l)):\n",
    "                    nextUrl = \"https://simple.wikipedia.org\" + l\n",
    "                    nextFile = \".\" + l + \".txt\"\n",
    "                    nextWebsites.append((nextUrl,nextFile))\n",
    "                    saveContent(nextUrl,nextFile)\n",
    "                    if(counter == maxCount):\n",
    "                        return True\n",
    "    \n",
    "    if(len(nextWebsites) == 0):\n",
    "        print(\"the end.\")\n",
    "        return False\n",
    "    \n",
    "    while(True):\n",
    "        url,file = nextWebsites[random.randint(1, len(nextWebsites))-1]\n",
    "        if(website(url,file)):\n",
    "            return True\n"
   ]
  },
  {
   "cell_type": "code",
   "execution_count": 5,
   "metadata": {
    "scrolled": true
   },
   "outputs": [],
   "source": [
    "url = \"https://simple.wikipedia.org/wiki/Satellite_(artificial)\" #starting website\n",
    "global counter\n",
    "counter = 0\n",
    "website(url,\"./wiki/Satellite_(artificial).txt\")"
   ]
  },
  {
   "cell_type": "code",
   "execution_count": 7,
   "metadata": {},
   "outputs": [],
   "source": [
    "#usuniecie pustych (błędy, błędy, błędy)\n",
    "files = os.listdir('./wiki/')\n",
    "for i in range(len(files)):\n",
    "    fileName = './wiki/' + files[i]\n",
    "    f = open(fileName,\"r\", encoding=\"utf-8\")\n",
    "    if(len(f.read()) == 0):\n",
    "        os.remove(fileName)\n",
    "    f.close()"
   ]
  }
 ],
 "metadata": {
  "kernelspec": {
   "display_name": "Python 3",
   "language": "python",
   "name": "python3"
  },
  "language_info": {
   "codemirror_mode": {
    "name": "ipython",
    "version": 3
   },
   "file_extension": ".py",
   "mimetype": "text/x-python",
   "name": "python",
   "nbconvert_exporter": "python",
   "pygments_lexer": "ipython3",
   "version": "3.7.4"
  }
 },
 "nbformat": 4,
 "nbformat_minor": 2
}
