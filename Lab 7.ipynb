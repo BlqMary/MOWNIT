{
 "cells": [
  {
   "cell_type": "code",
   "execution_count": 130,
   "metadata": {},
   "outputs": [],
   "source": [
    "import numpy as np\n",
    "import scipy as sp\n",
    "from time import perf_counter as pc\n",
    "import matplotlib.pyplot as plt"
   ]
  },
  {
   "cell_type": "code",
   "execution_count": 60,
   "metadata": {},
   "outputs": [],
   "source": [
    "A = np.array([\n",
    "    [0,3,2],\n",
    "    [3,5,1],\n",
    "    [2,1,10]\n",
    "])"
   ]
  },
  {
   "cell_type": "code",
   "execution_count": 115,
   "metadata": {},
   "outputs": [
    {
     "name": "stdout",
     "output_type": "stream",
     "text": [
      "np.linalg.eig:\n",
      "[ 7.44173927 -0.55946271 -2.88227655]\n",
      "[[-0.48027962 -0.80382519 -0.35099366]\n",
      " [-0.62721009  0.59447592 -0.50319567]\n",
      " [-0.61313864  0.02152786  0.78968194]]\n"
     ]
    }
   ],
   "source": [
    "print('np.linalg.eig:')\n",
    "eigvals, eigvecs = np.linalg.eig(A)\n",
    "print(eigvals)\n",
    "print(eigvecs)"
   ]
  },
  {
   "cell_type": "code",
   "execution_count": 116,
   "metadata": {},
   "outputs": [
    {
     "data": {
      "text/plain": [
       "(7.441739268043946, array([0.48027962, 0.62721009, 0.61313864]))"
      ]
     },
     "execution_count": 116,
     "metadata": {},
     "output_type": "execute_result"
    }
   ],
   "source": [
    "def eigenvalue(A, v):\n",
    "    Av = A @ v\n",
    "    return v @ Av\n",
    "\n",
    "def powerIteration(A,eps = 10**-9,maxIter=10**5):\n",
    "    x0 = np.identity(A.shape[0])[0]\n",
    "    for i in range (maxIter):\n",
    "        x = x0\n",
    "        x = A @ x\n",
    "        x /= np.linalg.norm(x) #nomralizacja\n",
    "        l = eigenvalue(A,x) #wartość własna\n",
    "        if(np.linalg.norm(x-x0) < eps):\n",
    "            return l,x\n",
    "        x0 = x\n",
    "    return l,x\n",
    "\n",
    "powerIteration(A)"
   ]
  },
  {
   "cell_type": "code",
   "execution_count": null,
   "metadata": {},
   "outputs": [
    {
     "name": "stdout",
     "output_type": "stream",
     "text": [
      "100\n",
      "150\n",
      "200\n",
      "250\n",
      "300\n",
      "350\n",
      "400\n",
      "450\n",
      "500\n"
     ]
    }
   ],
   "source": [
    "time = []\n",
    "iteration = []\n",
    "for i in range(100,501,50):\n",
    "    print(i)\n",
    "    A = np.random.randint(-2000,2000,size=(i,i))\n",
    "    A = (A + A.T)/2\n",
    "    s = pc()\n",
    "    powerIteration(A)\n",
    "    e = pc()\n",
    "    times.append(e-s)\n",
    "    iteration.append(i)\n",
    "    \n",
    "plt.plot(iteration,time)"
   ]
  },
  {
   "cell_type": "code",
   "execution_count": 123,
   "metadata": {},
   "outputs": [
    {
     "data": {
      "text/plain": [
       "array([[ -445. ,   964.5,  1381.5, ...,   550.5,   934. ,  -187. ],\n",
       "       [  964.5,  -866. , -1551. , ...,  -418.5,  -306.5,    15.5],\n",
       "       [ 1381.5, -1551. , -1373. , ...,   652.5,  -733. ,  -973.5],\n",
       "       ...,\n",
       "       [  550.5,  -418.5,   652.5, ...,  1111. ,   219.5,  -120.5],\n",
       "       [  934. ,  -306.5,  -733. , ...,   219.5,  -353. ,  -328. ],\n",
       "       [ -187. ,    15.5,  -973.5, ...,  -120.5,  -328. ,  1949. ]])"
      ]
     },
     "execution_count": 123,
     "metadata": {},
     "output_type": "execute_result"
    }
   ],
   "source": [
    "N = 100\n",
    "b = np.random.randint(-2000,2000,size=(N,N))\n",
    "b_symm = (b + b.T)/2\n"
   ]
  },
  {
   "cell_type": "code",
   "execution_count": 117,
   "metadata": {},
   "outputs": [
    {
     "data": {
      "text/plain": [
       "array([ 0.80382519, -0.59447592, -0.02152786])"
      ]
     },
     "execution_count": 117,
     "metadata": {},
     "output_type": "execute_result"
    }
   ],
   "source": [
    "def inverseIteration(A,eps= 10**-9,maxIter=10**5):\n",
    "    x0 = np.identity(A.shape[0])[0]\n",
    "    LU = sp.linalg.lu_factor(A)\n",
    "    \n",
    "    for i in range (maxIter):\n",
    "        x = x0\n",
    "        x = sp.linalg.lu_solve(LU,x) \n",
    "        x /= np.linalg.norm(x)\n",
    "        if(np.linalg.norm(x-x0) < eps):\n",
    "            return x\n",
    "        x0 = x\n",
    "    return x\n",
    "\n",
    "inverseIteration(A)"
   ]
  },
  {
   "cell_type": "code",
   "execution_count": 119,
   "metadata": {},
   "outputs": [
    {
     "data": {
      "text/plain": [
       "(-0.5594627131163542, array([ 0.80382519, -0.59447592, -0.02152786]))"
      ]
     },
     "execution_count": 119,
     "metadata": {},
     "output_type": "execute_result"
    }
   ],
   "source": [
    "def rayleigh(A,eps=10**-9,maxIter=10**5):\n",
    "    I = np.identity(A.shape[0])\n",
    "    x0 = np.identity(A.shape[0])[0]\n",
    "   \n",
    "\n",
    "    for i in range (maxIter):\n",
    "        x = x0\n",
    "        lam = np.dot(x,np.dot(A,x))\n",
    "        \n",
    "        LU = sp.linalg.lu_factor(A-lam*I)\n",
    "        x = sp.linalg.lu_solve(LU,x) \n",
    "        x /= np.linalg.norm(x)\n",
    "        \n",
    "        if(np.linalg.norm(x-x0) < eps):\n",
    "            return lam,x\n",
    "        x0 = x\n",
    "    return lam,x\n",
    "\n",
    "rayleigh(A)"
   ]
  }
 ],
 "metadata": {
  "kernelspec": {
   "display_name": "Python 3",
   "language": "python",
   "name": "python3"
  },
  "language_info": {
   "codemirror_mode": {
    "name": "ipython",
    "version": 3
   },
   "file_extension": ".py",
   "mimetype": "text/x-python",
   "name": "python",
   "nbconvert_exporter": "python",
   "pygments_lexer": "ipython3",
   "version": "3.7.4"
  }
 },
 "nbformat": 4,
 "nbformat_minor": 2
}
