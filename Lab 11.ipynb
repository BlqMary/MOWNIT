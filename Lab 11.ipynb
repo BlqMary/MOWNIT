{
 "cells": [
  {
   "cell_type": "code",
   "execution_count": 78,
   "metadata": {},
   "outputs": [],
   "source": [
    "import numpy as np\n",
    "import matplotlib.pyplot as plt\n",
    "from random import randrange"
   ]
  },
  {
   "cell_type": "markdown",
   "metadata": {},
   "source": [
    "### Zadanie 1 Faktoryzacja QR metodą Grama-Schmidta\n",
    "1. Napisz funkcję dokonującą faktoryzacji QR macierzy $A ∈ R^{n×n}$ , $A = [a_1,a_2, . . . ,a_n]$ klasyczną metodą ortogonalizacji Grama-Schmidta"
   ]
  },
  {
   "cell_type": "markdown",
   "metadata": {},
   "source": [
    "##### Wzory:\n",
    "\n",
    "Dla $k=1$:  \n",
    "$u_1\\leftarrow \\frac{a_1}{\\Arrowvert a_1 \\Arrowvert}$\n",
    "\n",
    "Dla $k>1$:  \n",
    "$u_k\\leftarrow a_k - \\sum_{i=1}^{k-1}\\langle u_i,a_k\\rangle u_i$  \n",
    "$u_k\\leftarrow \\frac{u_k}{\\Arrowvert u_k \\Arrowvert}$  \n",
    "  \n",
    "$Q = [u_1,u_2,...,u_n]$  \n",
    "  \n",
    "$R = \\begin{bmatrix} \\langle u_1,a_1\\rangle & \\langle u_1,a_2\\rangle & \\langle u_1,a_3\\rangle & \\cdots \\\\\n",
    "                0 & \\langle u_2,a_2\\rangle & \\langle u_2,a_3\\rangle & \\cdots \\\\\n",
    "                0 & 0 & \\langle u_3,a_3\\rangle & \\cdots \\\\\n",
    "                \\vdots & \\vdots & \\vdots & \\ddots \\end{bmatrix}$"
   ]
  },
  {
   "cell_type": "code",
   "execution_count": 37,
   "metadata": {},
   "outputs": [],
   "source": [
    "def QR(A):\n",
    "    n = A.shape[0]\n",
    "    Q = np.zeros((n,n))\n",
    "    R = np.zeros((n,n))\n",
    "    \n",
    "    for k in range (n):\n",
    "        Q[:,k] = A[:,k]        \n",
    "        for i in range (k): #dla k=0 nie wejdziemy do wewnętrznej pętli więc jest ok\n",
    "            Q[:,k] -= (Q[:,i] @ A[:,k]) * Q[:,i]\n",
    "        Q[:,k] /= np.linalg.norm(Q[:,k])\n",
    "        for j in range (k,n):\n",
    "            R[k,j] = Q[:,k]@A[:,j]\n",
    "            \n",
    "    return Q,R"
   ]
  },
  {
   "cell_type": "markdown",
   "metadata": {},
   "source": [
    "2. Przetestuj zaimplementowaną metodę porównując wyniki uzyskane z jej pomocą z wynikami zwracanymi przez funkcję biblioteczną. W testach wykorzystaj 4-5 macierzy losowych o różnym rozmiarze."
   ]
  },
  {
   "cell_type": "code",
   "execution_count": 59,
   "metadata": {},
   "outputs": [
    {
     "name": "stdout",
     "output_type": "stream",
     "text": [
      "Your QR works alright\n",
      "Your QR works alright\n",
      "Your QR works alright\n",
      "Your QR works alright\n",
      "Your QR works alright\n"
     ]
    }
   ],
   "source": [
    "for n in range (50,251,50):\n",
    "    A = np.random.rand(n, n)\n",
    "    Q1,R1 = np.linalg.qr(np.copy(A))\n",
    "    Q2,R2 = QR(np.copy(A))\n",
    "    \n",
    "    if (np.allclose(Q1,Q2) and np.allclose(R1,R2)):\n",
    "        print(\"Your QR works exactly as numpy!\")\n",
    "    if (np.allclose(np.absolute(Q1),np.absolute(Q2)) and np.allclose(np.absolute(R1),np.absolute(R2))):\n",
    "        if(np.allclose(Q2@R2,A)):\n",
    "            print(\"Your QR works alright\")\n",
    "        else:\n",
    "            print(\"Well yeah but no\")\n",
    "    else:\n",
    "        print(\"We've got a big no no here\")"
   ]
  },
  {
   "cell_type": "markdown",
   "metadata": {},
   "source": [
    "3. Wygeneruj 30-50 przykładowych macierzy 8×8 o różnym wskaźniku uwarunkowania (stosunek największej do najmniejszej wartości osobliwej). Wykorzystaj w tym celu SVD oraz biblioteczną funkcję realizującą dekompozycję QR (potrzebne będą dwie losowe macierze ortogonalne oraz diagonalna macierz odpowiednio szybko malejących wartości osobliwych).\n",
    "\n",
    "$cond = \\frac {s_1}{s_n}$"
   ]
  },
  {
   "cell_type": "code",
   "execution_count": 138,
   "metadata": {},
   "outputs": [],
   "source": [
    "M = np.random.rand(8,8)\n",
    "As = []\n",
    "for i in range(40):\n",
    "    U,S,V = np.linalg.svd(M)\n",
    "    S[0] *= 1.8\n",
    "    S = np.diag(S) #żeby to mnożenie poniżej działało\n",
    "    M = U @ S @ V\n",
    "    As.append(M)"
   ]
  },
  {
   "cell_type": "markdown",
   "metadata": {},
   "source": [
    "4. Dla każdej z uzyskanych w ten sposób macierzy $A_i$ wyznacz faktoryzację QR korzystając z zaimplementowanej funkcji $(A_i = Q_iR_i)$. Przedstaw zależność  $\\Arrowvert I−Q^T_i Q_i\\Arrowvert$ od $cond(A_i)$."
   ]
  },
  {
   "cell_type": "code",
   "execution_count": 180,
   "metadata": {},
   "outputs": [
    {
     "data": {
      "image/png": "[encoded data removed]",
      "text/plain": [
       "<Figure size 432x288 with 1 Axes>"
      ]
     },
     "metadata": {
      "needs_background": "light"
     },
     "output_type": "display_data"
    }
   ],
   "source": [
    "conds = []\n",
    "norms = []\n",
    "for A in As:\n",
    "    Q,_ = QR(np.copy(A))\n",
    "    _,S,_ = np.linalg.svd(A)\n",
    "    norms.append(np.linalg.norm(np.identity(n)-Q.T@Q))\n",
    "    conds.append(S[0]/S[n-1])\n",
    "    \n",
    "plt.plot(conds,norms, '-o', color='gray',\n",
    "         markersize=4, linewidth=1,\n",
    "         markerfacecolor='white',\n",
    "         markeredgecolor='black',\n",
    "         markeredgewidth=1)\n",
    "plt.show()"
   ]
  },
  {
   "cell_type": "markdown",
   "metadata": {},
   "source": [
    "5. Zinterpretuj wyniki. Jaka jest przyczyna uzyskanych rozbieżności? Od czego zależy wielkość rozbieżności? \n",
    "\n",
    "Na wykresie widzimy że im bardziej zwiększa się wartość wskaźnika uwarunkowania tym większa jest wartość $\\Arrowvert I−Q^T_i Q_i\\Arrowvert$.  \n",
    "Przyczyną uzyskanych rozbieżności jest brak stabilności numerycznej zaimplementowanego algorytmu QR. Wraz ze wzrostem wartości wskaźnika uwarunkowania macierzy warunek (macierzy ortagonalnych) $A^TA=I$ przestaje być prawdziwy."
   ]
  },
  {
   "cell_type": "markdown",
   "metadata": {},
   "source": [
    "### Zadanie 2 Rozwiązywanie układów równań metodą QR\n",
    "Napisz funkcję rozwiązującą nadokreślony układ równań liniowych metodą QR. Następnie wykorzystaj ją do rozwiązania problemu proksymacji średniokwadratowej dla zbioru punktów podanego tabeli poniżej. Przyjmij model postaci:   \n",
    "  \n",
    "$f(x) = α_0 + α_1x + α_2x^2$ \n",
    "  \n",
    "Przedstaw wizualizację uzyskanego wyniku (punkty oraz funkcja aproksymująca f)"
   ]
  },
  {
   "cell_type": "code",
   "execution_count": 175,
   "metadata": {},
   "outputs": [],
   "source": [
    "X = [i for i in range (-5,6)]\n",
    "Y = [2,7,9,12,13,14,14,13,10,8,4]\n",
    "A = np.array([[1,x,x**2] for x in X])"
   ]
  },
  {
   "cell_type": "code",
   "execution_count": 178,
   "metadata": {},
   "outputs": [
    {
     "data": {
      "image/png": "[encoded data removed]",
      "text/plain": [
       "<Figure size 432x288 with 1 Axes>"
      ]
     },
     "metadata": {
      "needs_background": "light"
     },
     "output_type": "display_data"
    }
   ],
   "source": [
    "def solveLeastSquares(A,y):\n",
    "    Q,R = np.linalg.qr(A)\n",
    "    return np.linalg.solve(R,Q.T@y)\n",
    "\n",
    "a = leastSquares(A,Y)\n",
    "domain = np.arange(min(X)-1,max(X)+1,0.2)\n",
    "values = [a[0] + x*a[1] + x**2 * a[2] for x in domain]\n",
    "\n",
    "plt.plot(domain,values,color='gray')\n",
    "plt.plot(X,Y,'o',color='orange')\n",
    "plt.show()"
   ]
  }
 ],
 "metadata": {
  "kernelspec": {
   "display_name": "Python 3",
   "language": "python",
   "name": "python3"
  },
  "language_info": {
   "codemirror_mode": {
    "name": "ipython",
    "version": 3
   },
   "file_extension": ".py",
   "mimetype": "text/x-python",
   "name": "python",
   "nbconvert_exporter": "python",
   "pygments_lexer": "ipython3",
   "version": "3.7.4"
  }
 },
 "nbformat": 4,
 "nbformat_minor": 2
}
